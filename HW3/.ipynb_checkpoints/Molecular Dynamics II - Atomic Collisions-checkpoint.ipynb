{
 "cells": [
  {
   "cell_type": "markdown",
   "metadata": {},
   "source": [
    "In this worksheet we will develop a Molecular Dynamics program for interacting systems, such as a number of atoms interacting through pair potentials."
   ]
  },
  {
   "cell_type": "markdown",
   "metadata": {},
   "source": [
    "As always we start by importing the scientific and plotting functions so that we can use them in this notebook:"
   ]
  },
  {
   "cell_type": "code",
   "execution_count": 1,
   "metadata": {
    "collapsed": false,
    "jupyter": {
     "outputs_hidden": false
    }
   },
   "outputs": [
    {
     "name": "stdout",
     "output_type": "stream",
     "text": [
      "Populating the interactive namespace from numpy and matplotlib\n"
     ]
    }
   ],
   "source": [
    "%pylab inline"
   ]
  },
  {
   "cell_type": "markdown",
   "metadata": {},
   "source": [
    "First we define the pair potential, i.e., the interaction energy between any two atoms. We will use the truncated and shifted Lennard-Jones interaction, with a cutoff at $r_c$:"
   ]
  },
  {
   "cell_type": "code",
   "execution_count": 2,
   "metadata": {},
   "outputs": [],
   "source": [
    "def u(r):\n",
    "    if r >= rc:\n",
    "        return 0.0\n",
    "    else:\n",
    "        return 4.0 * (r**-12 - r**-6) - 4*(rc**-12 - rc**-6)"
   ]
  },
  {
   "cell_type": "markdown",
   "metadata": {},
   "source": [
    "Once we have the pair potential, we can calculate the total potential energy by summing over all distinct pairs of atoms:"
   ]
  },
  {
   "cell_type": "code",
   "execution_count": 3,
   "metadata": {},
   "outputs": [],
   "source": [
    "def compute_potential_energy():\n",
    "    \"\"\"Computes the total potential energy of the system.\"\"\"\n",
    "\n",
    "    N = positions.shape[0]                      # there are as many atoms as there are positions\n",
    "    \n",
    "    Epot = 0.\n",
    "    for i in range(0, N-1):\n",
    "        for j in range(i+1, N):\n",
    "            rij = positions[j] - positions[i]   # rij is the distance vector from particle i to particle j\n",
    "            r = sqrt(dot(rij, rij))             # calculate the magnitude of the distance: r = |rij| = sqrt( r_ij * r_ij )\n",
    "\n",
    "            Epot += u(r)                        # add potential energy of this pair to total\n",
    "\n",
    "    # return the copmuted energy to the calling program\n",
    "    return Epot"
   ]
  },
  {
   "cell_type": "markdown",
   "metadata": {},
   "source": [
    "If the total potential energy is pairwise additive and of the form\n",
    "$$\n",
    "U = \\sum_{i=1}^{N-1} \\sum_{j=i+1}^{N} u(r_{ij})\n",
    "$$\n",
    "then the force acting on atom $i$ is\n",
    "$$\n",
    "\\boldsymbol{F}_i = - \\nabla_i U = \\sum_{j \\neq i} u'(r_{ij}) \\frac{\\boldsymbol{r}_{ij}}{|\\boldsymbol{r}_{ij}|} \n",
    "= \\sum_{j \\neq i} f(r_{ij}) \\frac{\\boldsymbol{r}_{ij}}{|\\boldsymbol{r}_{ij}|} \n",
    "$$\n",
    "where we introduced the new function $f(r) = u'(r)$ and the shorthand $\\boldsymbol{r}_{ij} = \\boldsymbol{r}_{j} - \\boldsymbol{r}_{i}$.\n",
    "If the pair potential is the Lennard-Jones potential, then\n",
    "$$\n",
    "f(r) = u'(r) =  -24 \\epsilon \\left[2 \\frac{\\sigma^{12}}{r^{13}} - \\frac{\\sigma^{6}}{r^{7}} \\right]\n",
    "$$\n",
    "If the pair potential is truncated and shifted at $r_c$, then the resulting force is also truncated at $r_c$."
   ]
  },
  {
   "cell_type": "markdown",
   "metadata": {},
   "source": [
    "Let's implement this in our code. First we define a function to calculate the magnitude of the force between two particles as a function of their distance:"
   ]
  },
  {
   "cell_type": "code",
   "execution_count": 4,
   "metadata": {
    "collapsed": false,
    "jupyter": {
     "outputs_hidden": false
    }
   },
   "outputs": [],
   "source": [
    "def f(r):\n",
    "    if r >= rc:\n",
    "        return 0.0\n",
    "    else:\n",
    "        return -24.*(2*r**-13 - r**-7)"
   ]
  },
  {
   "cell_type": "markdown",
   "metadata": {},
   "source": [
    "In every Molecular Dynamics timestep we have to calculate the forces for each pair of atoms:"
   ]
  },
  {
   "cell_type": "code",
   "execution_count": 5,
   "metadata": {},
   "outputs": [],
   "source": [
    "def compute_forces():\n",
    "    \"\"\"Computes forces between all pairs of particles.\"\"\"\n",
    "\n",
    "    N = positions.shape[0]                      # there are as many atoms as there are positions\n",
    "\n",
    "    # define an array where we will store the force acting on each particle\n",
    "    forces = np.zeros ((N,3), dtype=float)\n",
    "\n",
    "    # loop over all particle pairs (i,j), and calculate the force those particle exert on each other\n",
    "    for i in range(0, N-1):\n",
    "        for j in range(i+1, N):\n",
    "            rij = positions[j] - positions[i]   # rij is the distance vector from particle i to particle j\n",
    "            r = sqrt(np.dot (rij, rij))         # calculate the magnitude of the distance: r = |rij| = sqrt( r_ij * r_ij )\n",
    "\n",
    "            forces[i] += f(r) * rij / r         # add force to particle i\n",
    "            forces[j] -= f(r) * rij / r         # add force to particle j\n",
    "\n",
    "    # return the computed force array to the calling program\n",
    "    return forces"
   ]
  },
  {
   "cell_type": "markdown",
   "metadata": {},
   "source": [
    "It is not really necessary for the Velocity Verlet algorithm, but it is often useful to know what the kinetic energy is:"
   ]
  },
  {
   "cell_type": "code",
   "execution_count": 6,
   "metadata": {},
   "outputs": [],
   "source": [
    "def compute_kinetic_energy():\n",
    "    \"\"\"Computes the total kinetic energy of the system.\"\"\"\n",
    "\n",
    "    Ekin = 0.5 * np.sum(velocities**2)\n",
    "    return Ekin\n"
   ]
  },
  {
   "cell_type": "markdown",
   "metadata": {},
   "source": [
    "The last thing we need is the Velocity Verlet algorithm that performs a single timestep on the system:"
   ]
  },
  {
   "cell_type": "code",
   "execution_count": 7,
   "metadata": {},
   "outputs": [],
   "source": [
    "def perform_timestep():\n",
    "    global positions, velocities, forces # we have to tell python that we are modifying global objects\n",
    "    velocities += 0.5 * dt * forces      # Step 1: calcuate velocities at time t + dt/2    \n",
    "    positions += dt * velocities         # Step 2: calculate positions at time t + dt\n",
    "    forces = compute_forces()            # Step 3: calculate forces for new positions at time t + dt\n",
    "    velocities += 0.5 * dt * forces      # Step 4: calculate velocities at time t + dt\n",
    "    return positions, velocities, forces"
   ]
  },
  {
   "cell_type": "markdown",
   "metadata": {},
   "source": [
    "That's it! Now let's test what we've put together so far."
   ]
  },
  {
   "cell_type": "markdown",
   "metadata": {},
   "source": [
    "## Collision of two (almost) hard spheres"
   ]
  },
  {
   "cell_type": "markdown",
   "metadata": {},
   "source": [
    "We have not yet specified a cutoff radius where to truncate and shift the Lennard-Jones potential. Let's start with the seemingly odd choice $r_c = 2^{1/6} \\sigma$, which happens to be the distance at which the Lennard-Jones potential has its minimum:"
   ]
  },
  {
   "cell_type": "code",
   "execution_count": 8,
   "metadata": {},
   "outputs": [],
   "source": [
    "rc = 2**(1./6.)"
   ]
  },
  {
   "cell_type": "markdown",
   "metadata": {},
   "source": [
    "With this choice the pair potential looks like this:"
   ]
  },
  {
   "cell_type": "code",
   "execution_count": 9,
   "metadata": {
    "collapsed": false,
    "jupyter": {
     "outputs_hidden": false
    }
   },
   "outputs": [
    {
     "data": {
      "text/plain": [
       "Text(0, 0.5, 'u(r)')"
      ]
     },
     "execution_count": 9,
     "metadata": {},
     "output_type": "execute_result"
    },
    {
     "data": {
      "image/png": "[encoded data removed]",
      "text/plain": [
       "<Figure size 432x288 with 1 Axes>"
      ]
     },
     "metadata": {
      "needs_background": "light"
     },
     "output_type": "display_data"
    }
   ],
   "source": [
    "distances = linspace(0.1,3,100)\n",
    "plot (distances, [u(r) for r in distances])\n",
    "ylim(0,5)\n",
    "xlabel(\"r\")\n",
    "ylabel(\"u(r)\")"
   ]
  },
  {
   "cell_type": "markdown",
   "metadata": {},
   "source": [
    "This pair potential is sometimes called the Weeks-Chandler-Andersen (WCA) potential. It is the repulsive part of the Lennard-Jones potential, and has no attractive region at all. Atoms with this pair interaction essentially behave like hard spheres, as we will see below."
   ]
  },
  {
   "cell_type": "markdown",
   "metadata": {},
   "source": [
    "Before we start a simulation we have to specify the timestep for the Velocity Verlet algorithm:"
   ]
  },
  {
   "cell_type": "code",
   "execution_count": 10,
   "metadata": {},
   "outputs": [],
   "source": [
    "dt = 0.01"
   ]
  },
  {
   "cell_type": "markdown",
   "metadata": {},
   "source": [
    "Let's consider two atoms in a cubic simulation box of sidelength $10 \\sigma$. The first atom starts at position $\\boldsymbol{r}_1 = (0,0,0)$ with velocity $\\boldsymbol{v}_1 = (1,0,0)$, while the second atom starts at position $\\boldsymbol{r}_2 = (5,0,0)$ at rest (velocity $\\boldsymbol{v}_2 = (0,0,0)$). We specify this intial condition, and then execute the Velocity Verlet algorithm `Nsteps` times:"
   ]
  },
  {
   "cell_type": "code",
   "execution_count": 11,
   "metadata": {
    "collapsed": false,
    "jupyter": {
     "outputs_hidden": false
    }
   },
   "outputs": [],
   "source": [
    "# set the initial condition: positions and velocities of all atoms, as well as the simulation box size:\n",
    "\n",
    "positions = array([[0,0,0],[5,0,0]], dtype=float)\n",
    "velocities = array([[1,0,0],[0,0,0]], dtype=float)\n",
    "\n",
    "# now we reserve some space to store the x coordinates of the two atoms, as well as the potential end kinetic energy of the system:\n",
    "\n",
    "Nsteps = 800\n",
    "\n",
    "x1 = zeros (Nsteps)\n",
    "x2 = zeros (Nsteps)\n",
    "Epot = zeros (Nsteps)\n",
    "Ekin = zeros (Nsteps)\n",
    "\n",
    "forces = compute_forces()\n",
    "for step in range(Nsteps):\n",
    "    x1[step] = positions[0,0]\n",
    "    x2[step] = positions[1,0]\n",
    "    Epot[step] = compute_potential_energy()\n",
    "    Ekin[step] = compute_kinetic_energy()\n",
    "\n",
    "    perform_timestep()\n",
    "    "
   ]
  },
  {
   "cell_type": "markdown",
   "metadata": {},
   "source": [
    "Done! Let's plot the x-coordinates of our two atoms as a function of timestep:"
   ]
  },
  {
   "cell_type": "code",
   "execution_count": 12,
   "metadata": {
    "collapsed": false,
    "jupyter": {
     "outputs_hidden": false
    }
   },
   "outputs": [
    {
     "data": {
      "text/plain": [
       "<matplotlib.legend.Legend at 0x7fd0fe35d5b0>"
      ]
     },
     "execution_count": 12,
     "metadata": {},
     "output_type": "execute_result"
    },
    {
     "data": {
      "image/png": "[encoded data removed]",
      "text/plain": [
       "<Figure size 432x288 with 1 Axes>"
      ]
     },
     "metadata": {
      "needs_background": "light"
     },
     "output_type": "display_data"
    }
   ],
   "source": [
    "plot(x1,label=\"Atom 1\")\n",
    "plot(x2,label=\"Atom 2\")\n",
    "xlabel(\"Timestep\")\n",
    "ylabel(\"x coordinate\")\n",
    "legend(loc=\"lower right\")"
   ]
  },
  {
   "cell_type": "markdown",
   "metadata": {},
   "source": [
    "Here is a plot of the potential, kinetic, and total energy as a function of timestep:"
   ]
  },
  {
   "cell_type": "code",
   "execution_count": 13,
   "metadata": {
    "collapsed": false,
    "jupyter": {
     "outputs_hidden": false
    }
   },
   "outputs": [
    {
     "data": {
      "text/plain": [
       "<matplotlib.legend.Legend at 0x7fd0fe56ffa0>"
      ]
     },
     "execution_count": 13,
     "metadata": {},
     "output_type": "execute_result"
    },
    {
     "data": {
      "image/png": "[encoded data removed]",
      "text/plain": [
       "<Figure size 432x288 with 1 Axes>"
      ]
     },
     "metadata": {
      "needs_background": "light"
     },
     "output_type": "display_data"
    }
   ],
   "source": [
    "plot(Epot,label=\"Potential Energy\")\n",
    "plot(Ekin,label=\"Kinetic Energy\")\n",
    "plot(Epot+Ekin,label=\"Total Energy\")\n",
    "xlabel(\"Timestep\")\n",
    "legend(loc=\"lower right\")"
   ]
  },
  {
   "cell_type": "markdown",
   "metadata": {},
   "source": [
    "#### Exercise 1: Explain what is going on in these two plots!"
   ]
  },
  {
   "cell_type": "markdown",
   "metadata": {},
   "source": [
    "Wouldn't it be nice if we could watch a movie of the trajectory we just generated? Unfortunately we cannot do that within this Notebook, but we can save the trajectory and then use the program [VMD](http://www.ks.uiuc.edu/Research/vmd/) to visualize it."
   ]
  },
  {
   "cell_type": "markdown",
   "metadata": {},
   "source": [
    "To do this we have to learn how to save the trajectory data to a file. We have to choose a file format that VMD can read. While our simulation code uses a dimensionless unit system, VMD assumes that lengths are given in Angstroms. For visualization purposes only we will pretend that our Atoms are argon, which has a diameter of 3.76 Angstrom. All we need to do is multiply all lengths of our dimensionless simulation by 3.76."
   ]
  },
  {
   "cell_type": "markdown",
   "metadata": {},
   "source": [
    "Here is a function that saves the current configuration in a VMD-compatible format to a file. It uses the XYZ format, first writes the number of atoms, then an empty line, and then for each atom its type (here: Ar) and its x, y and z coordinate: "
   ]
  },
  {
   "cell_type": "code",
   "execution_count": 14,
   "metadata": {},
   "outputs": [],
   "source": [
    "def write_configuration(f):\n",
    "    \"Write the current configuration to the file f in XYZ format\"\n",
    "    N = positions.shape[0]\n",
    "    print (N, file=f)\n",
    "    print (\"\", file=f)\n",
    "    for pos in positions:\n",
    "        print (\"Ar \", 3.76 * pos[0], 3.76 * pos[1], 3.76 * pos[2], file=f)"
   ]
  },
  {
   "cell_type": "markdown",
   "metadata": {},
   "source": [
    "Now let's rerun the simulation above, but this time we write the configuration to a file:"
   ]
  },
  {
   "cell_type": "code",
   "execution_count": 15,
   "metadata": {
    "collapsed": false,
    "jupyter": {
     "outputs_hidden": false
    }
   },
   "outputs": [],
   "source": [
    "# set the initial condition: positions and velocities of all atoms, as well as the simulation box size:\n",
    "\n",
    "positions = array([[0,0,0],[5,0,0]], dtype=float)\n",
    "velocities = array([[1,0,0],[0,0,0]], dtype=float)\n",
    "\n",
    "# now we reserve some space to store the x coordinates of the two atoms, as well as the potential end kinetic energy of the system:\n",
    "\n",
    "Nsteps = 800\n",
    "\n",
    "xyzfilename = \"output.xyz\"\n",
    "xyzfile = open(xyzfilename, \"w\")      # open the trajectory file in write mode\n",
    "\n",
    "forces = compute_forces()\n",
    "for step in range(Nsteps):\n",
    "    write_configuration(xyzfile)      # save configuration to trajectory file\n",
    "    perform_timestep()\n",
    "\n",
    "xyzfile.close()                       # close trajectory file"
   ]
  },
  {
   "cell_type": "code",
   "execution_count": 5,
   "metadata": {},
   "outputs": [],
   "source": [
    "import nglview as nv"
   ]
  },
  {
   "cell_type": "code",
   "execution_count": 6,
   "metadata": {},
   "outputs": [],
   "source": [
    "import MDAnalysis as mda"
   ]
  },
  {
   "cell_type": "code",
   "execution_count": 8,
   "metadata": {},
   "outputs": [],
   "source": [
    "u = mda.Universe(\"output.xyz\")"
   ]
  },
  {
   "cell_type": "code",
   "execution_count": 12,
   "metadata": {},
   "outputs": [
    {
     "data": {
      "application/vnd.jupyter.widget-view+json": {
       "model_id": "60cdbd4f561745309cfedbcfb6a4beba",
       "version_major": 2,
       "version_minor": 0
      },
      "text/plain": [
       "NGLWidget(max_frame=799)"
      ]
     },
     "metadata": {},
     "output_type": "display_data"
    }
   ],
   "source": [
    "u_view = nv.show_mdanalysis(u)\n",
    "u_view"
   ]
  },
  {
   "cell_type": "markdown",
   "metadata": {},
   "source": [
    "Let's take a look! Start VMD, and choose \"New Molecule...\" from the \"File\" menu. Click on the \"Browse\" button next to  \"Filename\" and navigate to the directory this Notebook is in, and there should be the output file \"output.xyz\". Then select \"Load\", and VMD should be loading the trajectory.\n",
    "\n",
    "Most likely the visualization window will not show anything quite yet. The reason is that VMD is typically used to visualize very complicated structures rather than something as simple as a few argon atoms. We first have to tell VMD to show every single atom. To do that, go to the \"Graphics\" menu and select \"Representations...\". A new window will open that contains a menu for the \"Drawing Method\", which is by default set to \"Lines\". Go ahead and change that to \"VDW\", and two spheres (representing our two atoms) should appear in the visualization window.\n",
    "\n",
    "You can now use the VCR-style controls in the VMD main window to rewind to the beginning of the trajectory and then play the movie. If one or both of the atoms leave the visible view, you can select \"Reset View\" from the \"Display\" menu to readjust the view (which you can also do by pressing the \"=\" key while the visualization window is the active one)."
   ]
  },
  {
   "cell_type": "markdown",
   "metadata": {},
   "source": [
    "## Collision of multiple spheres"
   ]
  },
  {
   "cell_type": "markdown",
   "metadata": {},
   "source": [
    "Let's consider a different initial condition, this time using 4 atoms. We will also modify our code to create an additional output file that stores the potential and kinetic energy as a function of time:"
   ]
  },
  {
   "cell_type": "code",
   "execution_count": null,
   "metadata": {
    "collapsed": false,
    "jupyter": {
     "outputs_hidden": false
    }
   },
   "outputs": [],
   "source": [
    "# set the initial condition: positions and velocities of all atoms, as well as the simulation box size:\n",
    "\n",
    "positions = array([[0,0,0],[5,0,0],[6,1,0],[6,-1,0]], dtype=float)\n",
    "velocities = array([[1,0,0],[0,0,0],[0,0,0],[0,0,0]], dtype=float)\n",
    "\n",
    "# now we reserve some space to store the x coordinates of the two atoms, as well as the potential end kinetic energy of the system:\n",
    "\n",
    "Nsteps = 800\n",
    "\n",
    "xyzfilename = \"output.xyz\"\n",
    "xyzfile = open(xyzfilename, \"w\")      # open the trajectory file in write mode\n",
    "energyfilename = \"energy.dat\"\n",
    "energyfile = open(energyfilename,\"w\") # open the energy file in write mode\n",
    "\n",
    "forces = compute_forces()\n",
    "for step in range(Nsteps):\n",
    "    write_configuration(xyzfile)      # save configuration to trajectory file\n",
    "    print (step*dt, compute_potential_energy(), compute_kinetic_energy(), file=energyfile)    # save energies to file\n",
    "    perform_timestep()\n",
    "\n",
    "energyfile.close()                    # close energy file\n",
    "xyzfile.close()                       # close trajectory file"
   ]
  },
  {
   "cell_type": "markdown",
   "metadata": {},
   "source": [
    "Look at the generated trajectory file in VMD! Because we also saved the energies in a file, we can now load that file and analyze the energies:"
   ]
  },
  {
   "cell_type": "code",
   "execution_count": null,
   "metadata": {},
   "outputs": [],
   "source": [
    "energy = loadtxt(energyfilename)"
   ]
  },
  {
   "cell_type": "markdown",
   "metadata": {},
   "source": [
    "What does this data look like?"
   ]
  },
  {
   "cell_type": "code",
   "execution_count": null,
   "metadata": {
    "collapsed": false,
    "jupyter": {
     "outputs_hidden": false
    }
   },
   "outputs": [],
   "source": [
    "print (energy)"
   ]
  },
  {
   "cell_type": "markdown",
   "metadata": {},
   "source": [
    "``energy`` is a two-dimensional array with 3 columns and as many rows as there were timesteps. The first column is the time, the second is the potential energy, and the third is the kinetic energy. Let's take a look at what those look like:"
   ]
  },
  {
   "cell_type": "code",
   "execution_count": null,
   "metadata": {
    "collapsed": false,
    "jupyter": {
     "outputs_hidden": false
    }
   },
   "outputs": [],
   "source": [
    "times = energy[:,0]    # the first column\n",
    "Epot = energy[:,1]     # the second column\n",
    "Ekin = energy[:,2]     # the third column\n",
    "plot (times, Epot, label=\"Potential Energy\")\n",
    "plot (times, Ekin, label=\"Kinetic Energy\")\n",
    "plot (times, Epot+Ekin, label=\"Total Energy\")\n",
    "xlabel(\"Time\")\n",
    "legend(loc=\"lower left\")"
   ]
  },
  {
   "cell_type": "markdown",
   "metadata": {},
   "source": [
    "We see that while the potential and kinetic energies are not conserved, the sum of the two is -- as it should be!"
   ]
  },
  {
   "cell_type": "markdown",
   "metadata": {},
   "source": [
    "## Collision of two Lennard-Jones atoms"
   ]
  },
  {
   "cell_type": "markdown",
   "metadata": {},
   "source": [
    "Let's revisit the collision of just two atoms, but this time we use a different cutoff where we truncate and shift the Lennard-Jones potential:"
   ]
  },
  {
   "cell_type": "code",
   "execution_count": null,
   "metadata": {},
   "outputs": [],
   "source": [
    "rc = 2.5"
   ]
  },
  {
   "cell_type": "markdown",
   "metadata": {},
   "source": [
    "The pair potential now looks like this:"
   ]
  },
  {
   "cell_type": "code",
   "execution_count": null,
   "metadata": {
    "collapsed": false,
    "jupyter": {
     "outputs_hidden": false
    }
   },
   "outputs": [],
   "source": [
    "distances = linspace(0.1,3,100)\n",
    "plot (distances, [u(r) for r in distances])\n",
    "ylim(-1,5)\n",
    "xlabel(\"r\")\n",
    "ylabel(\"u(r)\")"
   ]
  },
  {
   "cell_type": "markdown",
   "metadata": {},
   "source": [
    "We see that the potential now has a minimum and is attractive at intermediate distances. Let's run the simulation as before:"
   ]
  },
  {
   "cell_type": "code",
   "execution_count": null,
   "metadata": {
    "collapsed": false,
    "jupyter": {
     "outputs_hidden": false
    }
   },
   "outputs": [],
   "source": [
    "# set the initial condition: positions and velocities of all atoms, as well as the simulation box size:\n",
    "\n",
    "positions = array([[0,0,0],[5,0,0]], dtype=float)\n",
    "velocities = array([[1,0,0],[0,0,0]], dtype=float)\n",
    "\n",
    "# now we reserve some space to store the x coordinates of the two atoms, as well as the potential end kinetic energy of the system:\n",
    "\n",
    "Nsteps = 800\n",
    "\n",
    "x1 = zeros (Nsteps)\n",
    "x2 = zeros (Nsteps)\n",
    "Epot = zeros (Nsteps)\n",
    "Ekin = zeros (Nsteps)\n",
    "\n",
    "forces = compute_forces()\n",
    "for step in range(Nsteps):\n",
    "    x1[step] = positions[0,0]\n",
    "    x2[step] = positions[1,0]\n",
    "    Epot[step] = compute_potential_energy()\n",
    "    Ekin[step] = compute_kinetic_energy()\n",
    "\n",
    "    perform_timestep()\n",
    "    "
   ]
  },
  {
   "cell_type": "code",
   "execution_count": null,
   "metadata": {
    "collapsed": false,
    "jupyter": {
     "outputs_hidden": false
    },
    "scrolled": true
   },
   "outputs": [],
   "source": [
    "plot(x1,label=\"Atom 1\")\n",
    "plot(x2,label=\"Atom 2\")\n",
    "xlabel(\"Timestep\")\n",
    "ylabel(\"x coordinate\")\n",
    "legend(loc=\"lower right\")"
   ]
  },
  {
   "cell_type": "code",
   "execution_count": null,
   "metadata": {
    "collapsed": false,
    "jupyter": {
     "outputs_hidden": false
    },
    "scrolled": true
   },
   "outputs": [],
   "source": [
    "plot(Epot,label=\"Potential Energy\")\n",
    "plot(Ekin,label=\"Kinetic Energy\")\n",
    "plot(Epot+Ekin,label=\"Total Energy\")\n",
    "xlabel(\"Timestep\")\n",
    "legend(loc=\"lower right\")"
   ]
  },
  {
   "cell_type": "markdown",
   "metadata": {},
   "source": [
    "#### Exercise 2: Explain what is going on in these two plots, especially the difference two the previous case in which two atoms interacted through the WCA potential!"
   ]
  },
  {
   "cell_type": "markdown",
   "metadata": {},
   "source": [
    "## Shooting a single atom at a small cluster"
   ]
  },
  {
   "cell_type": "markdown",
   "metadata": {},
   "source": [
    "We are now considering a single atom that is moving toward a stationary cluster of three argon atoms:"
   ]
  },
  {
   "cell_type": "code",
   "execution_count": null,
   "metadata": {
    "collapsed": false,
    "jupyter": {
     "outputs_hidden": false
    }
   },
   "outputs": [],
   "source": [
    "# set the initial condition: positions and velocities of all atoms, as well as the simulation box size:\n",
    "\n",
    "positions = array([[0,0,0],[5,0,0],[5+1.12*cos(pi/6),1.12*sin(pi/6),0],[5+1.12*cos(pi/6),-1.12*sin(pi/6),0]], dtype=float)\n",
    "velocities = array([[1,0,0],[0,0,0],[0,0,0],[0,0,0]], dtype=float)\n",
    "\n",
    "# now we reserve some space to store the x coordinates of the two atoms, as well as the potential end kinetic energy of the system:\n",
    "\n",
    "Nsteps = 2000\n",
    "\n",
    "xyzfilename = \"output.xyz\"\n",
    "xyzfile = open(xyzfilename, \"w\")      # open the trajectory file in write mode\n",
    "energyfilename = \"energy.dat\"\n",
    "energyfile = open(energyfilename,\"w\") # open the energy file in write mode\n",
    "\n",
    "forces = compute_forces()\n",
    "for step in range(Nsteps):\n",
    "    write_configuration(xyzfile)      # save configuration to trajectory file\n",
    "    print (step*dt, compute_potential_energy(), compute_kinetic_energy(), file=energyfile)    # save energies to file\n",
    "    perform_timestep()\n",
    "\n",
    "energyfile.close()                    # close energy file\n",
    "xyzfile.close()                       # close trajectory file"
   ]
  },
  {
   "cell_type": "code",
   "execution_count": null,
   "metadata": {
    "collapsed": false,
    "jupyter": {
     "outputs_hidden": false
    }
   },
   "outputs": [],
   "source": [
    "energy = loadtxt(energyfilename)\n",
    "times = energy[:,0]    # the first column\n",
    "Epot = energy[:,1]     # the second column\n",
    "Ekin = energy[:,2]     # the third column\n",
    "plot (times, Epot, label=\"Potential Energy\")\n",
    "plot (times, Ekin, label=\"Kinetic Energy\")\n",
    "plot (times, Epot+Ekin, label=\"Total Energy\")\n",
    "xlabel(\"Time\")\n",
    "legend(loc=\"lower left\")"
   ]
  },
  {
   "cell_type": "markdown",
   "metadata": {},
   "source": [
    "#### Exercise 3: Watch the trajectory in VMD! Describe what happened!"
   ]
  },
  {
   "cell_type": "markdown",
   "metadata": {},
   "source": [
    "#### Exercise 4: Change the initial velocity of the incoming atom from (1,0,0) to (3,0,0). Run the simulation, watch the trajectory in VMD, and describe what happens!"
   ]
  },
  {
   "cell_type": "code",
   "execution_count": 13,
   "metadata": {},
   "outputs": [
    {
     "name": "stderr",
     "output_type": "stream",
     "text": [
      "/Users/coire/anaconda3/lib/python3.8/site-packages/MDAnalysis/topology/PDBParser.py:330: UserWarning: Element information is absent or missing for a few atoms. Elements attributes will not be populated.\n",
      "  warnings.warn(\"Element information is absent or missing for a few \"\n"
     ]
    }
   ],
   "source": [
    "import MDAnalysis as mda\n",
    "import nglview as nv\n",
    "from nglview.datafiles import PDB, XTC\n",
    "\n",
    "u = mda.Universe(PDB, XTC)\n",
    "\n",
    "protein = u.select_atoms('protein')"
   ]
  },
  {
   "cell_type": "code",
   "execution_count": 14,
   "metadata": {},
   "outputs": [
    {
     "data": {
      "application/vnd.jupyter.widget-view+json": {
       "model_id": "02d27eb19aab44cabedc2e72d6735c7a",
       "version_major": 2,
       "version_minor": 0
      },
      "text/plain": [
       "NGLWidget(max_frame=50)"
      ]
     },
     "metadata": {},
     "output_type": "display_data"
    }
   ],
   "source": [
    "w = nv.show_mdanalysis(protein)\n",
    "w"
   ]
  },
  {
   "cell_type": "code",
   "execution_count": null,
   "metadata": {},
   "outputs": [],
   "source": []
  }
 ],
 "metadata": {
  "kernelspec": {
   "display_name": "Python 3",
   "language": "python",
   "name": "python3"
  },
  "language_info": {
   "codemirror_mode": {
    "name": "ipython",
    "version": 3
   },
   "file_extension": ".py",
   "mimetype": "text/x-python",
   "name": "python",
   "nbconvert_exporter": "python",
   "pygments_lexer": "ipython3",
   "version": "3.8.3"
  }
 },
 "nbformat": 4,
 "nbformat_minor": 4
}
