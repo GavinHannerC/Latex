{
 "cells": [
  {
   "cell_type": "markdown",
   "metadata": {},
   "source": [
    "# Random Numbers"
   ]
  },
  {
   "cell_type": "markdown",
   "metadata": {},
   "source": [
    "In this notebook we will experiment with random numbers and probabilities. We will use some functions from SciPy, an extension of Python that provides many powerful tools to do science. To use these functions coneniently, execute the folowing cell (i.e., select it and press Shift+Return):"
   ]
  },
  {
   "cell_type": "code",
   "execution_count": 1,
   "metadata": {},
   "outputs": [
    {
     "name": "stdout",
     "output_type": "stream",
     "text": [
      "Populating the interactive namespace from numpy and matplotlib\n"
     ]
    }
   ],
   "source": [
    "%pylab inline"
   ]
  },
  {
   "cell_type": "markdown",
   "metadata": {},
   "source": [
    "When evaluating this cell, you might have gotten a message \"Populating the interactive namespace from numpy and matplotlib\". You can safely ignore it. Now we are ready to start!"
   ]
  },
  {
   "cell_type": "markdown",
   "metadata": {},
   "source": [
    "### Rolling Dice"
   ]
  },
  {
   "cell_type": "markdown",
   "metadata": {},
   "source": [
    "Rolling a fair die should result in one of 6 possible outcomes (1, 2, 3, 4, 5 or 6), each with equal probability of 1/6. SciPy provides a function called \"randint\" that does something similar. You can read about \"randint\", or most other functions, simply by evaluating a cell with the function name, followed by a question mark. For example, when you evaluate the following cell, a window will pop up to tell you about the \"randint\" function (fell free to close it when you are done):"
   ]
  },
  {
   "cell_type": "code",
   "execution_count": 2,
   "metadata": {
    "scrolled": true
   },
   "outputs": [
    {
     "data": {
      "text/plain": [
       "\u001b[0;31mDocstring:\u001b[0m\n",
       "randint(low, high=None, size=None, dtype=int)\n",
       "\n",
       "Return random integers from `low` (inclusive) to `high` (exclusive).\n",
       "\n",
       "Return random integers from the \"discrete uniform\" distribution of\n",
       "the specified dtype in the \"half-open\" interval [`low`, `high`). If\n",
       "`high` is None (the default), then results are from [0, `low`).\n",
       "\n",
       ".. note::\n",
       "    New code should use the ``integers`` method of a ``default_rng()``\n",
       "    instance instead; see `random-quick-start`.\n",
       "\n",
       "Parameters\n",
       "----------\n",
       "low : int or array-like of ints\n",
       "    Lowest (signed) integers to be drawn from the distribution (unless\n",
       "    ``high=None``, in which case this parameter is one above the\n",
       "    *highest* such integer).\n",
       "high : int or array-like of ints, optional\n",
       "    If provided, one above the largest (signed) integer to be drawn\n",
       "    from the distribution (see above for behavior if ``high=None``).\n",
       "    If array-like, must contain integer values\n",
       "size : int or tuple of ints, optional\n",
       "    Output shape.  If the given shape is, e.g., ``(m, n, k)``, then\n",
       "    ``m * n * k`` samples are drawn.  Default is None, in which case a\n",
       "    single value is returned.\n",
       "dtype : dtype, optional\n",
       "    Desired dtype of the result. Byteorder must be native.\n",
       "    The default value is int.\n",
       "\n",
       "    .. versionadded:: 1.11.0\n",
       "\n",
       "Returns\n",
       "-------\n",
       "out : int or ndarray of ints\n",
       "    `size`-shaped array of random integers from the appropriate\n",
       "    distribution, or a single such random int if `size` not provided.\n",
       "\n",
       "See Also\n",
       "--------\n",
       "random_integers : similar to `randint`, only for the closed\n",
       "    interval [`low`, `high`], and 1 is the lowest value if `high` is\n",
       "    omitted.\n",
       "Generator.integers: which should be used for new code.\n",
       "\n",
       "Examples\n",
       "--------\n",
       ">>> np.random.randint(2, size=10)\n",
       "array([1, 0, 0, 0, 1, 1, 0, 0, 1, 0]) # random\n",
       ">>> np.random.randint(1, size=10)\n",
       "array([0, 0, 0, 0, 0, 0, 0, 0, 0, 0])\n",
       "\n",
       "Generate a 2 x 4 array of ints between 0 and 4, inclusive:\n",
       "\n",
       ">>> np.random.randint(5, size=(2, 4))\n",
       "array([[4, 0, 2, 1], # random\n",
       "       [3, 2, 2, 0]])\n",
       "\n",
       "Generate a 1 x 3 array with 3 different upper bounds\n",
       "\n",
       ">>> np.random.randint(1, [3, 5, 10])\n",
       "array([2, 2, 9]) # random\n",
       "\n",
       "Generate a 1 by 3 array with 3 different lower bounds\n",
       "\n",
       ">>> np.random.randint([1, 5, 7], 10)\n",
       "array([9, 8, 7]) # random\n",
       "\n",
       "Generate a 2 by 4 array using broadcasting with dtype of uint8\n",
       "\n",
       ">>> np.random.randint([1, 3, 5, 7], [[10], [20]], dtype=np.uint8)\n",
       "array([[ 8,  6,  9,  7], # random\n",
       "       [ 1, 16,  9, 12]], dtype=uint8)\n",
       "\u001b[0;31mType:\u001b[0m      builtin_function_or_method\n"
      ]
     },
     "metadata": {},
     "output_type": "display_data"
    }
   ],
   "source": [
    "randint?"
   ]
  },
  {
   "cell_type": "markdown",
   "metadata": {},
   "source": [
    "From the documentation, it seems that \"randint(6)\" should result in a random integer that is greater or equal than 0 and less than 6. Let's try it:"
   ]
  },
  {
   "cell_type": "code",
   "execution_count": 7,
   "metadata": {},
   "outputs": [
    {
     "data": {
      "text/plain": [
       "4"
      ]
     },
     "execution_count": 7,
     "metadata": {},
     "output_type": "execute_result"
    }
   ],
   "source": [
    "randint(6)"
   ]
  },
  {
   "cell_type": "markdown",
   "metadata": {},
   "source": [
    "To emulate rolling a die we want a number that is greater or equal than 1 and less or equal than 6, which we can accomplish by simply adding one to the result of randint:"
   ]
  },
  {
   "cell_type": "code",
   "execution_count": null,
   "metadata": {},
   "outputs": [],
   "source": [
    "randint(6)+1"
   ]
  },
  {
   "cell_type": "markdown",
   "metadata": {},
   "source": [
    "Now let's roll the die 100 times, i.e, let's create 100 independt random numbers. We will save the result in a variable; let's call it x:"
   ]
  },
  {
   "cell_type": "code",
   "execution_count": 8,
   "metadata": {},
   "outputs": [
    {
     "name": "stdout",
     "output_type": "stream",
     "text": [
      "[6 3 6 3 2 4 2 6 1 3 1 1 5 3 2 6 1 3 1 1 4 2 3 2 1 5 3 3 6 3 3 2 3 5 4 4 3\n",
      " 5 4 1 6 3 1 5 2 1 4 3 2 3 1 3 6 6 3 2 4 2 4 6 5 6 3 6 1 5 4 5 5 4 4 5 2 1\n",
      " 4 1 5 1 1 5 6 5 3 5 5 6 2 6 6 2 6 6 4 5 3 2 1 6 1 3]\n"
     ]
    }
   ],
   "source": [
    "x=randint(6, size=100)+1\n",
    "print (x)"
   ]
  },
  {
   "cell_type": "markdown",
   "metadata": {},
   "source": [
    "Statistically, each of the 6 possible outcomes should occur equally often. To test this we can make a histogram of the 100 observations we just made. You can use the \"hist\" function to do that quickly (remember that you can execute the command \"hist?\" to learn about the hist function):"
   ]
  },
  {
   "cell_type": "code",
   "execution_count": 9,
   "metadata": {},
   "outputs": [
    {
     "data": {
      "text/plain": [
       "(array([18., 14., 21., 13., 16., 18.]),\n",
       " array([0.5, 1.5, 2.5, 3.5, 4.5, 5.5, 6.5]),\n",
       " <a list of 6 Patch objects>)"
      ]
     },
     "execution_count": 9,
     "metadata": {},
     "output_type": "execute_result"
    },
    {
     "data": {
      "image/png": "[encoded data removed]",
      "text/plain": [
       "<Figure size 432x288 with 1 Axes>"
      ]
     },
     "metadata": {
      "needs_background": "light"
     },
     "output_type": "display_data"
    }
   ],
   "source": [
    "hist(x,range=(0.5,6.5),bins=6)"
   ]
  },
  {
   "cell_type": "markdown",
   "metadata": {},
   "source": [
    "Beautiful! Notice that we created a histogram with 6 evenly spaced bins between 0.5 and 6.5. Rather than producing a histogram, we can also use the \"hist\" function to compute the probability distribution with the additional keyword \"normed=True\". While we are at it, let's also include some axis labels:"
   ]
  },
  {
   "cell_type": "code",
   "execution_count": 10,
   "metadata": {},
   "outputs": [
    {
     "data": {
      "text/plain": [
       "Text(0, 0.5, 'Probability')"
      ]
     },
     "execution_count": 10,
     "metadata": {},
     "output_type": "execute_result"
    },
    {
     "data": {
      "image/png": "[encoded data removed]",
      "text/plain": [
       "<Figure size 432x288 with 1 Axes>"
      ]
     },
     "metadata": {
      "needs_background": "light"
     },
     "output_type": "display_data"
    }
   ],
   "source": [
    "hist(x,range=(0.5,6.5),bins=6,density=True)\n",
    "xlabel(\"Outcome\")\n",
    "ylabel(\"Probability\")"
   ]
  },
  {
   "cell_type": "markdown",
   "metadata": {},
   "source": [
    "You see that the probability of each possible outcome is somewhere close to 1/6. Let's do this again, but this time we roll the die 100000 times (don't try to do that with a real die):"
   ]
  },
  {
   "cell_type": "code",
   "execution_count": 11,
   "metadata": {},
   "outputs": [
    {
     "data": {
      "text/plain": [
       "Text(0, 0.5, 'Probability')"
      ]
     },
     "execution_count": 11,
     "metadata": {},
     "output_type": "execute_result"
    },
    {
     "data": {
      "image/png": "[encoded data removed]",
      "text/plain": [
       "<Figure size 432x288 with 1 Axes>"
      ]
     },
     "metadata": {
      "needs_background": "light"
     },
     "output_type": "display_data"
    }
   ],
   "source": [
    "x=randint(6, size=100000)+1\n",
    "hist(x,range=(0.5,6.5),bins=6,density=True)\n",
    "xlabel(\"Outcome\")\n",
    "ylabel(\"Probability\")"
   ]
  },
  {
   "cell_type": "markdown",
   "metadata": {},
   "source": [
    "You see that if you have many more samples, your observation will be much closer to the true probability distribution."
   ]
  },
  {
   "cell_type": "markdown",
   "metadata": {},
   "source": [
    "We can not only draw histograms, we can also quickly compute the mean of our observations:"
   ]
  },
  {
   "cell_type": "code",
   "execution_count": 12,
   "metadata": {},
   "outputs": [
    {
     "name": "stdout",
     "output_type": "stream",
     "text": [
      "Mean: 3.49828\n",
      "Variance: 2.9263570416\n"
     ]
    }
   ],
   "source": [
    "print (\"Mean:\", mean(x))\n",
    "print (\"Variance:\", var(x))"
   ]
  },
  {
   "cell_type": "markdown",
   "metadata": {},
   "source": [
    "### Continuous Random Numbers"
   ]
  },
  {
   "cell_type": "markdown",
   "metadata": {},
   "source": [
    "In the die rolling example above we considered an expeirment that had only 6 possible outcomes. Now let's look at a process with a continuous sample space: picking a random number between 0 and 1 with uniform probability."
   ]
  },
  {
   "cell_type": "markdown",
   "metadata": {},
   "source": [
    "Creating such numbers can be easily done in Python; you can read about it in the documentation of the \"rand\" function:"
   ]
  },
  {
   "cell_type": "code",
   "execution_count": 13,
   "metadata": {
    "scrolled": true
   },
   "outputs": [
    {
     "data": {
      "text/plain": [
       "\u001b[0;31mDocstring:\u001b[0m\n",
       "rand(d0, d1, ..., dn)\n",
       "\n",
       "Random values in a given shape.\n",
       "\n",
       ".. note::\n",
       "    This is a convenience function for users porting code from Matlab,\n",
       "    and wraps `random_sample`. That function takes a\n",
       "    tuple to specify the size of the output, which is consistent with\n",
       "    other NumPy functions like `numpy.zeros` and `numpy.ones`.\n",
       "\n",
       "Create an array of the given shape and populate it with\n",
       "random samples from a uniform distribution\n",
       "over ``[0, 1)``.\n",
       "\n",
       "Parameters\n",
       "----------\n",
       "d0, d1, ..., dn : int, optional\n",
       "    The dimensions of the returned array, must be non-negative.\n",
       "    If no argument is given a single Python float is returned.\n",
       "\n",
       "Returns\n",
       "-------\n",
       "out : ndarray, shape ``(d0, d1, ..., dn)``\n",
       "    Random values.\n",
       "\n",
       "See Also\n",
       "--------\n",
       "random\n",
       "\n",
       "Examples\n",
       "--------\n",
       ">>> np.random.rand(3,2)\n",
       "array([[ 0.14022471,  0.96360618],  #random\n",
       "       [ 0.37601032,  0.25528411],  #random\n",
       "       [ 0.49313049,  0.94909878]]) #random\n",
       "\u001b[0;31mType:\u001b[0m      builtin_function_or_method\n"
      ]
     },
     "metadata": {},
     "output_type": "display_data"
    }
   ],
   "source": [
    "rand?"
   ]
  },
  {
   "cell_type": "markdown",
   "metadata": {},
   "source": [
    "So, let's go ahead and generate 100 such random numbers:"
   ]
  },
  {
   "cell_type": "code",
   "execution_count": 14,
   "metadata": {},
   "outputs": [
    {
     "name": "stdout",
     "output_type": "stream",
     "text": [
      "[0.68815902 0.88637705 0.55708936 0.59854085 0.42875998 0.9111312\n",
      " 0.98290583 0.06866527 0.56250665 0.14641319 0.35021375 0.54879893\n",
      " 0.01755661 0.76870735 0.20569875 0.37130946 0.017682   0.82924424\n",
      " 0.13778337 0.16855095 0.74632052 0.61351806 0.30909803 0.8265152\n",
      " 0.25035231 0.51505246 0.78048977 0.72948129 0.09805457 0.65696482\n",
      " 0.68976606 0.25523254 0.98770715 0.96944071 0.37416471 0.70391803\n",
      " 0.94282506 0.74082752 0.94193627 0.9847373  0.08574497 0.25585229\n",
      " 0.16843829 0.92967006 0.22109882 0.12322559 0.87856505 0.15698083\n",
      " 0.31094478 0.46694811 0.80377383 0.25551756 0.70772748 0.68579701\n",
      " 0.86068254 0.02930845 0.64895257 0.78978701 0.66761535 0.62799929\n",
      " 0.73295794 0.19343026 0.79138302 0.9871116  0.00636273 0.95728485\n",
      " 0.74624634 0.88149768 0.92085504 0.03363315 0.2054777  0.86076398\n",
      " 0.82275925 0.9124652  0.07624698 0.31084641 0.21519738 0.48080884\n",
      " 0.37112408 0.59495376 0.75480938 0.44378643 0.36938373 0.34273565\n",
      " 0.67495658 0.43382423 0.06570394 0.74414588 0.55817903 0.58099578\n",
      " 0.88197237 0.16664838 0.95671045 0.32797173 0.79431229 0.66877857\n",
      " 0.28050916 0.58540629 0.77114526 0.54081696]\n"
     ]
    }
   ],
   "source": [
    "x=rand(100)\n",
    "print (x)"
   ]
  },
  {
   "cell_type": "markdown",
   "metadata": {},
   "source": [
    "Here is the probability distribution we obtain from this dataset, together with the mean and the variance:"
   ]
  },
  {
   "cell_type": "code",
   "execution_count": 15,
   "metadata": {},
   "outputs": [
    {
     "name": "stdout",
     "output_type": "stream",
     "text": [
      "Mean: 0.5408132437222097\n",
      "Variance: 0.08918042369622439\n"
     ]
    },
    {
     "data": {
      "image/png": "[encoded data removed]",
      "text/plain": [
       "<Figure size 432x288 with 1 Axes>"
      ]
     },
     "metadata": {
      "needs_background": "light"
     },
     "output_type": "display_data"
    }
   ],
   "source": [
    "hist(x,density=True)\n",
    "xlabel(\"x\")\n",
    "ylabel(\"p(x)\")\n",
    "print (\"Mean:\", mean(x))\n",
    "print (\"Variance:\", var(x))"
   ]
  },
  {
   "cell_type": "markdown",
   "metadata": {},
   "source": [
    "Let's see how those numbers change when we use a larger sample size, for example 10000 samples:"
   ]
  },
  {
   "cell_type": "code",
   "execution_count": 16,
   "metadata": {},
   "outputs": [
    {
     "name": "stdout",
     "output_type": "stream",
     "text": [
      "Mean: 0.4983180161870467\n",
      "Variance: 0.08393729915318966\n"
     ]
    },
    {
     "data": {
      "image/png": "[encoded data removed]",
      "text/plain": [
       "<Figure size 432x288 with 1 Axes>"
      ]
     },
     "metadata": {
      "needs_background": "light"
     },
     "output_type": "display_data"
    }
   ],
   "source": [
    "x=rand(10000)\n",
    "hist(x,density=True)\n",
    "xlabel(\"x\")\n",
    "ylabel(\"p(x)\")\n",
    "print (\"Mean:\", mean(x))\n",
    "print (\"Variance:\", var(x))"
   ]
  },
  {
   "cell_type": "markdown",
   "metadata": {},
   "source": [
    "So far we have looked at the probability distribution of picking a single number randomly between 0 and 1. Now we ask a different question: What is the probability distribution of the _average_ of picking N such numbers?"
   ]
  },
  {
   "cell_type": "markdown",
   "metadata": {},
   "source": [
    "We will pick N random numbers, calculate the average, and do this over and over again until we have enough oberservations of this average to make a histogram. We will start with an empty list (called \"averages\"), and add to that list each observation of the average. Let's start with a small number of N, let's say N=2:"
   ]
  },
  {
   "cell_type": "code",
   "execution_count": 17,
   "metadata": {},
   "outputs": [
    {
     "name": "stdout",
     "output_type": "stream",
     "text": [
      "Mean: 0.5004026490634754\n",
      "Variance: 0.04098892701634022\n"
     ]
    },
    {
     "data": {
      "image/png": "[encoded data removed]",
      "text/plain": [
       "<Figure size 432x288 with 1 Axes>"
      ]
     },
     "metadata": {
      "needs_background": "light"
     },
     "output_type": "display_data"
    }
   ],
   "source": [
    "N=2\n",
    "averages = []                  # this creates an empty list with the name \"averages\"\n",
    "for i in range(10000):         # let's do the following 100000 times:   \n",
    "    x=rand(N)                  #     pick N independent random numbers from a uniform distribution over [0,1]\n",
    "    averages.append (mean(x))  #     calculate the average of those N numbers, and add it to the list\n",
    "hist(averages,bins=100,density=True)   # compute and display the histogram distribution\n",
    "xlabel(\"Observed Mean\")\n",
    "ylabel(\"Probability Density\")\n",
    "print (\"Mean:\", mean(averages))\n",
    "print (\"Variance:\", var(averages))"
   ]
  },
  {
   "cell_type": "markdown",
   "metadata": {},
   "source": [
    "You see that the probability distribution for the average of 2 random numbers is already very different from the distribution of a single random number."
   ]
  },
  {
   "cell_type": "markdown",
   "metadata": {},
   "source": [
    "Let us do this again, but this time we average over 10 random numbers:"
   ]
  },
  {
   "cell_type": "code",
   "execution_count": 18,
   "metadata": {},
   "outputs": [
    {
     "name": "stdout",
     "output_type": "stream",
     "text": [
      "Mean: 0.5002356517926007\n",
      "Variance: 0.008398043918019881\n"
     ]
    },
    {
     "data": {
      "image/png": "[encoded data removed]",
      "text/plain": [
       "<Figure size 432x288 with 1 Axes>"
      ]
     },
     "metadata": {
      "needs_background": "light"
     },
     "output_type": "display_data"
    }
   ],
   "source": [
    "N=10\n",
    "averages = []                  # this creates an empty list with the name \"averages\"\n",
    "for i in range(100000):        # let's do the following 100000 times:   \n",
    "    x=rand(N)                  #     pick N independent random numbers from a uniform distribution over [0,1]\n",
    "    averages.append (mean(x))  #     calculate the average of those N numbers, and add it to the list\n",
    "hist(averages,bins=100,density=True)   # compute and display the histogram distribution\n",
    "xlabel(\"Observed Mean\")\n",
    "ylabel(\"Probability Density\")\n",
    "print (\"Mean:\", mean(averages))\n",
    "print (\"Variance:\", var(averages))"
   ]
  },
  {
   "cell_type": "markdown",
   "metadata": {},
   "source": [
    "This already looks very Gaussian! Let's do this again, but this time with N=40. Before you evaluate this cell, please stop and think about how would expect the distribution to look like, and what you think the mean and variance will be based on what you've just seen!"
   ]
  },
  {
   "cell_type": "code",
   "execution_count": 19,
   "metadata": {},
   "outputs": [
    {
     "name": "stdout",
     "output_type": "stream",
     "text": [
      "Mean: 0.5000340114280194\n",
      "Variance: 0.002093290537696063\n"
     ]
    },
    {
     "data": {
      "image/png": "[encoded data removed]",
      "text/plain": [
       "<Figure size 432x288 with 1 Axes>"
      ]
     },
     "metadata": {
      "needs_background": "light"
     },
     "output_type": "display_data"
    }
   ],
   "source": [
    "N=40\n",
    "averages = []                  # this creates an empty list with the name \"averages\"\n",
    "for i in range(100000):        # let's do the following 100000 times:   \n",
    "    x=rand(N)                  #     pick N independent random numbers from a uniform distribution over [0,1]\n",
    "    averages.append (mean(x))  #     calculate the average of those N numbers, and add it to the list\n",
    "hist(averages,bins=100,density=True)   # compute and display the histogram distribution\n",
    "xlabel(\"Observed Mean\")\n",
    "ylabel(\"Probability Density\")\n",
    "print (\"Mean:\", mean(averages))\n",
    "print (\"Variance:\", var(averages))"
   ]
  },
  {
   "cell_type": "markdown",
   "metadata": {},
   "source": [
    "The distribution is even more Gaussian, but it is now narrower. The mean remains the same, but the variance should have decreased by a factor of 4 -- can you guess why?"
   ]
  },
  {
   "cell_type": "code",
   "execution_count": 22,
   "metadata": {},
   "outputs": [],
   "source": [
    "def gaussian(x, N, mean, variance):\n",
    "    coeff = 1/np.sqrt(2*np.pi*variance/N)\n",
    "    exponential = -(x-mean)**2/(2*variance/N)\n",
    "    return coeff*np.exp(exponential)"
   ]
  },
  {
   "cell_type": "code",
   "execution_count": 28,
   "metadata": {},
   "outputs": [],
   "source": [
    "x_range = np.linspace(0,1,101)\n",
    "gaussian_x = gaussian(x_range, 100, 0.5, (1/12))"
   ]
  },
  {
   "cell_type": "code",
   "execution_count": 30,
   "metadata": {},
   "outputs": [
    {
     "name": "stdout",
     "output_type": "stream",
     "text": [
      "Mean: 0.4999613444120334\n",
      "Variance: 0.0008349441814745921\n"
     ]
    },
    {
     "data": {
      "image/png": "[encoded data removed]",
      "text/plain": [
       "<Figure size 432x288 with 1 Axes>"
      ]
     },
     "metadata": {
      "needs_background": "light"
     },
     "output_type": "display_data"
    }
   ],
   "source": [
    "N=100\n",
    "averages = []                  # this creates an empty list with the name \"averages\"\n",
    "for i in range(100000):        # let's do the following 100000 times:   \n",
    "    x=rand(N)                  #     pick N independent random numbers from a uniform distribution over [0,1]\n",
    "    averages.append (mean(x))  #     calculate the average of those N numbers, and add it to the list\n",
    "hist(averages,bins=100,density=True)   # compute and display the histogram distribution\n",
    "plot(x_range, gaussian_x)\n",
    "xlabel(\"Observed Mean\")\n",
    "ylabel(\"Probability Density\")\n",
    "print (\"Mean:\", mean(averages))\n",
    "print (\"Variance:\", var(averages))"
   ]
  },
  {
   "cell_type": "code",
   "execution_count": null,
   "metadata": {},
   "outputs": [],
   "source": []
  }
 ],
 "metadata": {
  "anaconda-cloud": {},
  "kernelspec": {
   "display_name": "Python 3",
   "language": "python",
   "name": "python3"
  },
  "language_info": {
   "codemirror_mode": {
    "name": "ipython",
    "version": 3
   },
   "file_extension": ".py",
   "mimetype": "text/x-python",
   "name": "python",
   "nbconvert_exporter": "python",
   "pygments_lexer": "ipython3",
   "version": "3.8.3"
  }
 },
 "nbformat": 4,
 "nbformat_minor": 4
}
